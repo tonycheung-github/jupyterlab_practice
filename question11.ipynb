{
 "cells": [
  {
   "cell_type": "markdown",
   "id": "fbde27bc-134c-4f52-97b0-4c7a09e8b787",
   "metadata": {},
   "source": [
    "# Notebook for assignment 7"
   ]
  },
  {
   "cell_type": "code",
   "execution_count": 1,
   "id": "2950df45-4cca-46b8-b902-02dd3558c1a3",
   "metadata": {},
   "outputs": [],
   "source": [
    "def compute_mean(num_array):\n",
    "    print_val = 0\n",
    "    for e in num_array:\n",
    "        print_val+=e\n",
    "    print(print_val/len(num_array))"
   ]
  },
  {
   "cell_type": "code",
   "execution_count": 2,
   "id": "9de0906e-8ff7-4b62-a800-c65355d8afb6",
   "metadata": {},
   "outputs": [
    {
     "name": "stdout",
     "output_type": "stream",
     "text": [
      "5.0\n"
     ]
    }
   ],
   "source": [
    "compute_mean([2, 4, 6, 8])"
   ]
  },
  {
   "cell_type": "markdown",
   "id": "30594c0b-f7de-4af7-bbae-2a747433087a",
   "metadata": {},
   "source": [
    "The above function `compute_mean` takes in an array of numbers `num_array` as an argument and computes and prints the arithmetic mean of the array of numbers.  `print_val` stores the eventual value of the mean that needs to be printed. The equation for finding the mean is as follows:\n",
    "\n",
    "$ \\bar{x} = \\frac{x_1 + x_2 + \\dots + x_n}{n} = \\frac{1}{n} \\bigg(\\displaystyle\\sum_{i=1}^{n}{x_i}\\bigg)$\n",
    "\n",
    "The `print_val` is initialized at a value of 0. When the code executes through the for loop, `print_val` is incremented by the value of each numerical element `e` inside `num_array`. This means that `print_val` will have a value equal to the sum of all the elements of `num_array` after the end of the for loop. Finally, what is printed is that sum divided by the number of elements in `num_array`, which is how we find the mean."
   ]
  }
 ],
 "metadata": {
  "kernelspec": {
   "display_name": "Python 3 (ipykernel)",
   "language": "python",
   "name": "python3"
  },
  "language_info": {
   "codemirror_mode": {
    "name": "ipython",
    "version": 3
   },
   "file_extension": ".py",
   "mimetype": "text/x-python",
   "name": "python",
   "nbconvert_exporter": "python",
   "pygments_lexer": "ipython3",
   "version": "3.11.8"
  }
 },
 "nbformat": 4,
 "nbformat_minor": 5
}
